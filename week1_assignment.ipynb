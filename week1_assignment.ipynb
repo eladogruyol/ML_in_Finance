{
 "cells": [
  {
   "cell_type": "markdown",
   "id": "08dce4c2",
   "metadata": {},
   "source": [
    "# Week 1 Assignment"
   ]
  },
  {
   "cell_type": "markdown",
   "id": "c74cb80e",
   "metadata": {},
   "source": [
    "#### Name: Ela Dogruyol\n",
    "#### Student ID: 2351343"
   ]
  },
  {
   "cell_type": "markdown",
   "id": "3509100e",
   "metadata": {},
   "source": [
    "Installation process is done in the below cell."
   ]
  },
  {
   "cell_type": "code",
   "execution_count": 1,
   "id": "96d3b6e6",
   "metadata": {},
   "outputs": [],
   "source": [
    "import numpy as np"
   ]
  },
  {
   "cell_type": "markdown",
   "id": "937627c5",
   "metadata": {},
   "source": [
    "1) A vector that has 43 elements is created with np.arange method."
   ]
  },
  {
   "cell_type": "code",
   "execution_count": 22,
   "id": "a52454e8",
   "metadata": {},
   "outputs": [
    {
     "name": "stdout",
     "output_type": "stream",
     "text": [
      "[ 0  1  2  3  4  5  6  7  8  9 10 11 12 13 14 15 16 17 18 19 20 21 22 23\n",
      " 24 25 26 27 28 29 30 31 32 33 34 35 36 37 38 39 40 41 42]\n"
     ]
    }
   ],
   "source": [
    "vector = np.arange(43)\n",
    "print(vector)"
   ]
  },
  {
   "cell_type": "markdown",
   "id": "cc26d3c7",
   "metadata": {},
   "source": [
    "2) Matrix is changed into a to 2-d array with 1 row."
   ]
  },
  {
   "cell_type": "code",
   "execution_count": 23,
   "id": "5103747d",
   "metadata": {},
   "outputs": [
    {
     "name": "stdout",
     "output_type": "stream",
     "text": [
      "[[ 0]\n",
      " [ 1]\n",
      " [ 2]\n",
      " [ 3]\n",
      " [ 4]\n",
      " [ 5]\n",
      " [ 6]\n",
      " [ 7]\n",
      " [ 8]\n",
      " [ 9]\n",
      " [10]\n",
      " [11]\n",
      " [12]\n",
      " [13]\n",
      " [14]\n",
      " [15]\n",
      " [16]\n",
      " [17]\n",
      " [18]\n",
      " [19]\n",
      " [20]\n",
      " [21]\n",
      " [22]\n",
      " [23]\n",
      " [24]\n",
      " [25]\n",
      " [26]\n",
      " [27]\n",
      " [28]\n",
      " [29]\n",
      " [30]\n",
      " [31]\n",
      " [32]\n",
      " [33]\n",
      " [34]\n",
      " [35]\n",
      " [36]\n",
      " [37]\n",
      " [38]\n",
      " [39]\n",
      " [40]\n",
      " [41]\n",
      " [42]]\n"
     ]
    }
   ],
   "source": [
    "vector = vector.reshape(43,1)\n",
    "print(vector)"
   ]
  },
  {
   "cell_type": "markdown",
   "id": "d9aba8aa",
   "metadata": {},
   "source": [
    "3) The constructed array is saved into another array."
   ]
  },
  {
   "cell_type": "code",
   "execution_count": 24,
   "id": "843a63f3",
   "metadata": {},
   "outputs": [
    {
     "name": "stdout",
     "output_type": "stream",
     "text": [
      "[[ 0]\n",
      " [ 1]\n",
      " [ 2]\n",
      " [ 3]\n",
      " [ 4]\n",
      " [ 5]\n",
      " [ 6]\n",
      " [ 7]\n",
      " [ 8]\n",
      " [ 9]\n",
      " [10]\n",
      " [11]\n",
      " [12]\n",
      " [13]\n",
      " [14]\n",
      " [15]\n",
      " [16]\n",
      " [17]\n",
      " [18]\n",
      " [19]\n",
      " [20]\n",
      " [21]\n",
      " [22]\n",
      " [23]\n",
      " [24]\n",
      " [25]\n",
      " [26]\n",
      " [27]\n",
      " [28]\n",
      " [29]\n",
      " [30]\n",
      " [31]\n",
      " [32]\n",
      " [33]\n",
      " [34]\n",
      " [35]\n",
      " [36]\n",
      " [37]\n",
      " [38]\n",
      " [39]\n",
      " [40]\n",
      " [41]\n",
      " [42]]\n"
     ]
    }
   ],
   "source": [
    "new_array_2d = np.empty_like(vector)\n",
    "new_array_2d[:,:] = vector\n",
    "print(new_array_2d)"
   ]
  },
  {
   "cell_type": "markdown",
   "id": "3266d57d",
   "metadata": {},
   "source": [
    "4) Shape attribute value is checked for both arrays."
   ]
  },
  {
   "cell_type": "code",
   "execution_count": 26,
   "id": "1e81d6e1",
   "metadata": {},
   "outputs": [
    {
     "name": "stdout",
     "output_type": "stream",
     "text": [
      "(43, 1)\n",
      "(43, 1)\n"
     ]
    }
   ],
   "source": [
    "print(vector.shape)\n",
    "print(new_array_2d.shape)"
   ]
  }
 ],
 "metadata": {
  "kernelspec": {
   "display_name": "Python 3 (ipykernel)",
   "language": "python",
   "name": "python3"
  },
  "language_info": {
   "codemirror_mode": {
    "name": "ipython",
    "version": 3
   },
   "file_extension": ".py",
   "mimetype": "text/x-python",
   "name": "python",
   "nbconvert_exporter": "python",
   "pygments_lexer": "ipython3",
   "version": "3.9.13"
  }
 },
 "nbformat": 4,
 "nbformat_minor": 5
}
